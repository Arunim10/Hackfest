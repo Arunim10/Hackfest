{
  "cells": [
    {
      "cell_type": "markdown",
      "metadata": {
        "id": "view-in-github",
        "colab_type": "text"
      },
      "source": [
        "<a href=\"https://colab.research.google.com/github/Arunim10/Hackfest/blob/main/Copy_of_water_management2.ipynb\" target=\"_parent\"><img src=\"https://colab.research.google.com/assets/colab-badge.svg\" alt=\"Open In Colab\"/></a>"
      ]
    },
    {
      "cell_type": "code",
      "execution_count": null,
      "metadata": {
        "colab": {
          "base_uri": "https://localhost:8080/"
        },
        "id": "C2KJPYr70zRm",
        "outputId": "26f7208c-0562-4c1b-f978-f9f99ed44985"
      },
      "outputs": [
        {
          "output_type": "stream",
          "name": "stdout",
          "text": [
            "Requirement already satisfied: librosa in /usr/local/lib/python3.7/dist-packages (0.8.1)\n",
            "Requirement already satisfied: numpy>=1.15.0 in /usr/local/lib/python3.7/dist-packages (from librosa) (1.21.6)\n",
            "Requirement already satisfied: audioread>=2.0.0 in /usr/local/lib/python3.7/dist-packages (from librosa) (2.1.9)\n",
            "Requirement already satisfied: scikit-learn!=0.19.0,>=0.14.0 in /usr/local/lib/python3.7/dist-packages (from librosa) (1.0.2)\n",
            "Requirement already satisfied: joblib>=0.14 in /usr/local/lib/python3.7/dist-packages (from librosa) (1.1.0)\n",
            "Requirement already satisfied: decorator>=3.0.0 in /usr/local/lib/python3.7/dist-packages (from librosa) (4.4.2)\n",
            "Requirement already satisfied: soundfile>=0.10.2 in /usr/local/lib/python3.7/dist-packages (from librosa) (0.10.3.post1)\n",
            "Requirement already satisfied: packaging>=20.0 in /usr/local/lib/python3.7/dist-packages (from librosa) (21.3)\n",
            "Requirement already satisfied: scipy>=1.0.0 in /usr/local/lib/python3.7/dist-packages (from librosa) (1.4.1)\n",
            "Requirement already satisfied: numba>=0.43.0 in /usr/local/lib/python3.7/dist-packages (from librosa) (0.51.2)\n",
            "Requirement already satisfied: pooch>=1.0 in /usr/local/lib/python3.7/dist-packages (from librosa) (1.6.0)\n",
            "Requirement already satisfied: resampy>=0.2.2 in /usr/local/lib/python3.7/dist-packages (from librosa) (0.2.2)\n",
            "Requirement already satisfied: llvmlite<0.35,>=0.34.0.dev0 in /usr/local/lib/python3.7/dist-packages (from numba>=0.43.0->librosa) (0.34.0)\n",
            "Requirement already satisfied: setuptools in /usr/local/lib/python3.7/dist-packages (from numba>=0.43.0->librosa) (57.4.0)\n",
            "Requirement already satisfied: pyparsing!=3.0.5,>=2.0.2 in /usr/local/lib/python3.7/dist-packages (from packaging>=20.0->librosa) (3.0.8)\n",
            "Requirement already satisfied: requests>=2.19.0 in /usr/local/lib/python3.7/dist-packages (from pooch>=1.0->librosa) (2.23.0)\n",
            "Requirement already satisfied: appdirs>=1.3.0 in /usr/local/lib/python3.7/dist-packages (from pooch>=1.0->librosa) (1.4.4)\n",
            "Requirement already satisfied: certifi>=2017.4.17 in /usr/local/lib/python3.7/dist-packages (from requests>=2.19.0->pooch>=1.0->librosa) (2021.10.8)\n",
            "Requirement already satisfied: urllib3!=1.25.0,!=1.25.1,<1.26,>=1.21.1 in /usr/local/lib/python3.7/dist-packages (from requests>=2.19.0->pooch>=1.0->librosa) (1.24.3)\n",
            "Requirement already satisfied: chardet<4,>=3.0.2 in /usr/local/lib/python3.7/dist-packages (from requests>=2.19.0->pooch>=1.0->librosa) (3.0.4)\n",
            "Requirement already satisfied: idna<3,>=2.5 in /usr/local/lib/python3.7/dist-packages (from requests>=2.19.0->pooch>=1.0->librosa) (2.10)\n",
            "Requirement already satisfied: six>=1.3 in /usr/local/lib/python3.7/dist-packages (from resampy>=0.2.2->librosa) (1.15.0)\n",
            "Requirement already satisfied: threadpoolctl>=2.0.0 in /usr/local/lib/python3.7/dist-packages (from scikit-learn!=0.19.0,>=0.14.0->librosa) (3.1.0)\n",
            "Requirement already satisfied: cffi>=1.0 in /usr/local/lib/python3.7/dist-packages (from soundfile>=0.10.2->librosa) (1.15.0)\n",
            "Requirement already satisfied: pycparser in /usr/local/lib/python3.7/dist-packages (from cffi>=1.0->soundfile>=0.10.2->librosa) (2.21)\n"
          ]
        }
      ],
      "source": [
        "!pip install librosa"
      ]
    },
    {
      "cell_type": "code",
      "source": [
        "from google.colab import drive\n",
        "drive.mount('/content/drive')"
      ],
      "metadata": {
        "colab": {
          "base_uri": "https://localhost:8080/"
        },
        "id": "NLh11eKQfFGC",
        "outputId": "96ab503e-d6c3-43cf-d391-eb6668bbaf75"
      },
      "execution_count": null,
      "outputs": [
        {
          "output_type": "stream",
          "name": "stdout",
          "text": [
            "Drive already mounted at /content/drive; to attempt to forcibly remount, call drive.mount(\"/content/drive\", force_remount=True).\n"
          ]
        }
      ]
    },
    {
      "cell_type": "code",
      "source": [
        "import code\n",
        "import glob\n",
        "import os\n",
        "import librosa\n",
        "import numpy as np\n",
        "import matplotlib.pyplot as plt\n",
        "from matplotlib.pyplot import specgram\n",
        "import soundfile as sf\n",
        "!sudo apt-get install libportaudio2\n",
        "!pip install sounddevice\n",
        "import sounddevice as sd\n",
        "import queue\n",
        "import os"
      ],
      "metadata": {
        "colab": {
          "base_uri": "https://localhost:8080/"
        },
        "id": "ANqVDA_wfd5R",
        "outputId": "2be88dfd-e0ae-427f-de38-f78391c95396"
      },
      "execution_count": null,
      "outputs": [
        {
          "output_type": "stream",
          "name": "stdout",
          "text": [
            "Reading package lists... Done\n",
            "Building dependency tree       \n",
            "Reading state information... Done\n",
            "libportaudio2 is already the newest version (19.6.0-1).\n",
            "The following packages were automatically installed and are no longer required:\n",
            "  libnvidia-common-460 nsight-compute-2020.2.0\n",
            "Use 'sudo apt autoremove' to remove them.\n",
            "0 upgraded, 0 newly installed, 0 to remove and 42 not upgraded.\n",
            "Requirement already satisfied: sounddevice in /usr/local/lib/python3.7/dist-packages (0.4.4)\n",
            "Requirement already satisfied: CFFI>=1.0 in /usr/local/lib/python3.7/dist-packages (from sounddevice) (1.15.0)\n",
            "Requirement already satisfied: pycparser in /usr/local/lib/python3.7/dist-packages (from CFFI>=1.0->sounddevice) (2.21)\n"
          ]
        }
      ]
    },
    {
      "cell_type": "code",
      "execution_count": null,
      "metadata": {
        "id": "5o_Zkp_TBmVR"
      },
      "outputs": [],
      "source": [
        "import pandas as pd\n",
        "import numpy as np\n",
        "import os\n",
        "import sklearn"
      ]
    },
    {
      "cell_type": "code",
      "execution_count": null,
      "metadata": {
        "id": "lGllTWaS1rub"
      },
      "outputs": [],
      "source": [
        "import matplotlib.pyplot as plt\n",
        "%matplotlib inline"
      ]
    },
    {
      "cell_type": "code",
      "execution_count": null,
      "metadata": {
        "id": "cO5fqlO11zYk"
      },
      "outputs": [],
      "source": [
        "import IPython.display as ipd\n",
        "import librosa\n",
        "import librosa.display"
      ]
    },
    {
      "cell_type": "code",
      "execution_count": null,
      "metadata": {
        "colab": {
          "base_uri": "https://localhost:8080/"
        },
        "id": "0SuHqHoD16Pj",
        "outputId": "86199414-e0eb-4c07-c867-d3fdf338a074"
      },
      "outputs": [
        {
          "output_type": "stream",
          "name": "stdout",
          "text": [
            "drive  feat.npy  label.npy  sample_data  saved_models\n"
          ]
        }
      ],
      "source": [
        "!dir\n"
      ]
    },
    {
      "cell_type": "code",
      "execution_count": null,
      "metadata": {
        "id": "5qTBZFll4k49"
      },
      "outputs": [],
      "source": [
        ""
      ]
    },
    {
      "cell_type": "code",
      "execution_count": null,
      "metadata": {
        "colab": {
          "base_uri": "https://localhost:8080/",
          "height": 206
        },
        "id": "OR3D3vIAFiDP",
        "outputId": "3cceb265-a09c-41bc-97ad-dde1f074397e"
      },
      "outputs": [
        {
          "output_type": "execute_result",
          "data": {
            "text/plain": [
              "                                               audio  leakage\n",
              "0  /content/drive/MyDrive/Water dataset/Non-Leak/...        0\n",
              "1  /content/drive/MyDrive/Water dataset/Leak/1724...        1\n",
              "2  /content/drive/MyDrive/Water dataset/Leak/3.1....        1\n",
              "3  /content/drive/MyDrive/Water dataset/Leak/1.6....        1\n",
              "4  /content/drive/MyDrive/Water dataset/Leak/003_...        1"
            ],
            "text/html": [
              "\n",
              "  <div id=\"df-b29dba38-ff09-4f89-b6fb-bdf6c1a2892c\">\n",
              "    <div class=\"colab-df-container\">\n",
              "      <div>\n",
              "<style scoped>\n",
              "    .dataframe tbody tr th:only-of-type {\n",
              "        vertical-align: middle;\n",
              "    }\n",
              "\n",
              "    .dataframe tbody tr th {\n",
              "        vertical-align: top;\n",
              "    }\n",
              "\n",
              "    .dataframe thead th {\n",
              "        text-align: right;\n",
              "    }\n",
              "</style>\n",
              "<table border=\"1\" class=\"dataframe\">\n",
              "  <thead>\n",
              "    <tr style=\"text-align: right;\">\n",
              "      <th></th>\n",
              "      <th>audio</th>\n",
              "      <th>leakage</th>\n",
              "    </tr>\n",
              "  </thead>\n",
              "  <tbody>\n",
              "    <tr>\n",
              "      <th>0</th>\n",
              "      <td>/content/drive/MyDrive/Water dataset/Non-Leak/...</td>\n",
              "      <td>0</td>\n",
              "    </tr>\n",
              "    <tr>\n",
              "      <th>1</th>\n",
              "      <td>/content/drive/MyDrive/Water dataset/Leak/1724...</td>\n",
              "      <td>1</td>\n",
              "    </tr>\n",
              "    <tr>\n",
              "      <th>2</th>\n",
              "      <td>/content/drive/MyDrive/Water dataset/Leak/3.1....</td>\n",
              "      <td>1</td>\n",
              "    </tr>\n",
              "    <tr>\n",
              "      <th>3</th>\n",
              "      <td>/content/drive/MyDrive/Water dataset/Leak/1.6....</td>\n",
              "      <td>1</td>\n",
              "    </tr>\n",
              "    <tr>\n",
              "      <th>4</th>\n",
              "      <td>/content/drive/MyDrive/Water dataset/Leak/003_...</td>\n",
              "      <td>1</td>\n",
              "    </tr>\n",
              "  </tbody>\n",
              "</table>\n",
              "</div>\n",
              "      <button class=\"colab-df-convert\" onclick=\"convertToInteractive('df-b29dba38-ff09-4f89-b6fb-bdf6c1a2892c')\"\n",
              "              title=\"Convert this dataframe to an interactive table.\"\n",
              "              style=\"display:none;\">\n",
              "        \n",
              "  <svg xmlns=\"http://www.w3.org/2000/svg\" height=\"24px\"viewBox=\"0 0 24 24\"\n",
              "       width=\"24px\">\n",
              "    <path d=\"M0 0h24v24H0V0z\" fill=\"none\"/>\n",
              "    <path d=\"M18.56 5.44l.94 2.06.94-2.06 2.06-.94-2.06-.94-.94-2.06-.94 2.06-2.06.94zm-11 1L8.5 8.5l.94-2.06 2.06-.94-2.06-.94L8.5 2.5l-.94 2.06-2.06.94zm10 10l.94 2.06.94-2.06 2.06-.94-2.06-.94-.94-2.06-.94 2.06-2.06.94z\"/><path d=\"M17.41 7.96l-1.37-1.37c-.4-.4-.92-.59-1.43-.59-.52 0-1.04.2-1.43.59L10.3 9.45l-7.72 7.72c-.78.78-.78 2.05 0 2.83L4 21.41c.39.39.9.59 1.41.59.51 0 1.02-.2 1.41-.59l7.78-7.78 2.81-2.81c.8-.78.8-2.07 0-2.86zM5.41 20L4 18.59l7.72-7.72 1.47 1.35L5.41 20z\"/>\n",
              "  </svg>\n",
              "      </button>\n",
              "      \n",
              "  <style>\n",
              "    .colab-df-container {\n",
              "      display:flex;\n",
              "      flex-wrap:wrap;\n",
              "      gap: 12px;\n",
              "    }\n",
              "\n",
              "    .colab-df-convert {\n",
              "      background-color: #E8F0FE;\n",
              "      border: none;\n",
              "      border-radius: 50%;\n",
              "      cursor: pointer;\n",
              "      display: none;\n",
              "      fill: #1967D2;\n",
              "      height: 32px;\n",
              "      padding: 0 0 0 0;\n",
              "      width: 32px;\n",
              "    }\n",
              "\n",
              "    .colab-df-convert:hover {\n",
              "      background-color: #E2EBFA;\n",
              "      box-shadow: 0px 1px 2px rgba(60, 64, 67, 0.3), 0px 1px 3px 1px rgba(60, 64, 67, 0.15);\n",
              "      fill: #174EA6;\n",
              "    }\n",
              "\n",
              "    [theme=dark] .colab-df-convert {\n",
              "      background-color: #3B4455;\n",
              "      fill: #D2E3FC;\n",
              "    }\n",
              "\n",
              "    [theme=dark] .colab-df-convert:hover {\n",
              "      background-color: #434B5C;\n",
              "      box-shadow: 0px 1px 3px 1px rgba(0, 0, 0, 0.15);\n",
              "      filter: drop-shadow(0px 1px 2px rgba(0, 0, 0, 0.3));\n",
              "      fill: #FFFFFF;\n",
              "    }\n",
              "  </style>\n",
              "\n",
              "      <script>\n",
              "        const buttonEl =\n",
              "          document.querySelector('#df-b29dba38-ff09-4f89-b6fb-bdf6c1a2892c button.colab-df-convert');\n",
              "        buttonEl.style.display =\n",
              "          google.colab.kernel.accessAllowed ? 'block' : 'none';\n",
              "\n",
              "        async function convertToInteractive(key) {\n",
              "          const element = document.querySelector('#df-b29dba38-ff09-4f89-b6fb-bdf6c1a2892c');\n",
              "          const dataTable =\n",
              "            await google.colab.kernel.invokeFunction('convertToInteractive',\n",
              "                                                     [key], {});\n",
              "          if (!dataTable) return;\n",
              "\n",
              "          const docLinkHtml = 'Like what you see? Visit the ' +\n",
              "            '<a target=\"_blank\" href=https://colab.research.google.com/notebooks/data_table.ipynb>data table notebook</a>'\n",
              "            + ' to learn more about interactive tables.';\n",
              "          element.innerHTML = '';\n",
              "          dataTable['output_type'] = 'display_data';\n",
              "          await google.colab.output.renderOutput(dataTable, element);\n",
              "          const docLink = document.createElement('div');\n",
              "          docLink.innerHTML = docLinkHtml;\n",
              "          element.appendChild(docLink);\n",
              "        }\n",
              "      </script>\n",
              "    </div>\n",
              "  </div>\n",
              "  "
            ]
          },
          "metadata": {},
          "execution_count": 8
        }
      ],
      "source": [
        "metadata=pd.read_csv('/content/drive/MyDrive/water_shufflefinal.csv')\n",
        "metadata.head()"
      ]
    },
    {
      "cell_type": "code",
      "execution_count": null,
      "metadata": {
        "id": "N3KgWCMkFof6",
        "colab": {
          "base_uri": "https://localhost:8080/",
          "height": 36
        },
        "outputId": "73171c33-fe0c-43d7-d8ba-4794c2a3cd79"
      },
      "outputs": [
        {
          "output_type": "execute_result",
          "data": {
            "text/plain": [
              "'/content/drive/MyDrive/Water dataset/Leak/3.1.02.0345.wav'"
            ],
            "application/vnd.google.colaboratory.intrinsic+json": {
              "type": "string"
            }
          },
          "metadata": {},
          "execution_count": 9
        }
      ],
      "source": [
        "metadata.iloc[2][0]"
      ]
    },
    {
      "cell_type": "code",
      "execution_count": null,
      "metadata": {
        "id": "MHal4K8g2mjH"
      },
      "outputs": [],
      "source": [
        "filename='/content/drive/MyDrive/Water dataset/Leak/3.1.02.0345.wav'\n",
        "#/content/drive/MyDrive/Water dataset/leak/005_07573-20180826.wav"
      ]
    },
    {
      "cell_type": "code",
      "execution_count": null,
      "metadata": {
        "id": "m0w4IBXc_w7K"
      },
      "outputs": [],
      "source": [
        "audio_file_path='/content/drive/MyDrive/watermanage/Leak'\n"
      ]
    },
    {
      "cell_type": "code",
      "source": [
        "wave_audio=metadata.iloc[2][0]"
      ],
      "metadata": {
        "id": "HXJooN8GcU3L"
      },
      "execution_count": null,
      "outputs": []
    },
    {
      "cell_type": "code",
      "execution_count": null,
      "metadata": {
        "id": "wxGxIbAJ4NTZ",
        "colab": {
          "base_uri": "https://localhost:8080/",
          "height": 282
        },
        "outputId": "2f369a4c-6cda-4dad-b2d6-1a88a00258b0"
      },
      "outputs": [
        {
          "output_type": "execute_result",
          "data": {
            "text/plain": [
              "[<matplotlib.lines.Line2D at 0x7f0fb8668c50>]"
            ]
          },
          "metadata": {},
          "execution_count": 13
        },
        {
          "output_type": "display_data",
          "data": {
            "text/plain": [
              "<Figure size 864x288 with 1 Axes>"
            ],
            "image/png": "[encoded data removed]"
          },
          "metadata": {
            "needs_background": "light"
          }
        }
      ],
      "source": [
        "plt.figure(figsize=(12, 4))\n",
        "plt.plot(wave_audio)"
      ]
    },
    {
      "cell_type": "code",
      "source": [
        "wave_audio=metadata.iloc[2][0]"
      ],
      "metadata": {
        "id": "lwsiDceDS3p3"
      },
      "execution_count": null,
      "outputs": []
    },
    {
      "cell_type": "code",
      "execution_count": null,
      "metadata": {
        "id": "vJ8PQhwB_U0J",
        "colab": {
          "base_uri": "https://localhost:8080/",
          "height": 282
        },
        "outputId": "7a2bc4af-f8e7-41d0-b5c6-1914b416c35e"
      },
      "outputs": [
        {
          "output_type": "execute_result",
          "data": {
            "text/plain": [
              "[<matplotlib.lines.Line2D at 0x7f0fb8182890>]"
            ]
          },
          "metadata": {},
          "execution_count": 15
        },
        {
          "output_type": "display_data",
          "data": {
            "text/plain": [
              "<Figure size 864x288 with 1 Axes>"
            ],
            "image/png": "[encoded data removed]"
          },
          "metadata": {
            "needs_background": "light"
          }
        }
      ],
      "source": [
        "plt.figure(figsize=(12, 4))\n",
        "plt.plot(wave_audio)"
      ]
    },
    {
      "cell_type": "code",
      "source": [
        "def extract_feature(file_name=None):\n",
        "    if file_name: \n",
        "        print('Extracting', file_name)\n",
        "        X, sample_rate = sf.read(file_name, dtype='float32')\n",
        "    else:  \n",
        "        device_info = sd.query_devices(None, 'input')\n",
        "        sample_rate = int(device_info['default_samplerate'])\n",
        "        q = queue.Queue()\n",
        "        def callback(i,f,t,s): q.put(i.copy())\n",
        "        data = []\n",
        "        with sd.InputStream(samplerate=sample_rate, callback=callback):\n",
        "            while True: \n",
        "                if len(data) < 100000: data.extend(q.get())\n",
        "                else: break\n",
        "        X = np.array(data)\n",
        "\n",
        "    if X.ndim > 1: X = X[:,0]\n",
        "    X = X.T\n",
        "\n",
        "    # short term fourier transform\n",
        "    stft = np.abs(librosa.stft(X))\n",
        "\n",
        "    # mfcc (mel-frequency cepstrum)\n",
        "    mfccs = np.mean(librosa.feature.mfcc(y=X, sr=8000, n_mfcc=40,fmin=30).T,axis=0)\n",
        "\n",
        "    # chroma\n",
        "    chroma = np.mean(librosa.feature.chroma_stft(S=stft, sr=8000).T,axis=0)\n",
        "\n",
        "    # melspectrogram\n",
        "    mel = np.mean(librosa.feature.melspectrogram(X, sr=8000,fmin=30).T,axis=0)\n",
        "\n",
        "    # spectral contrast\n",
        "    contrast = np.mean(librosa.feature.spectral_contrast(S=stft, sr=8000,fmin=30).T,axis=0)\n",
        "\n",
        "    tonnetz = np.mean(librosa.feature.tonnetz(y=librosa.effects.harmonic(X), sr=8000,fmin=30).T,axis=0)\n",
        "    return mfccs,chroma,mel,contrast,tonnetz\n"
      ],
      "metadata": {
        "id": "s5Bdcea-fxA4"
      },
      "execution_count": null,
      "outputs": []
    },
    {
      "cell_type": "code",
      "source": [
        "def parse_audio_files(parent_dir,file_ext='*.wav'):\n",
        "    sub_dirs = os.listdir(parent_dir)\n",
        "    sub_dirs.sort()\n",
        "    features, labels = np.empty((0,193)), np.empty(0)\n",
        "    for label, sub_dir in enumerate(sub_dirs):\n",
        "        if os.path.isdir(os.path.join(parent_dir, sub_dir)):\n",
        "            for fn in glob.glob(os.path.join(parent_dir, sub_dir, file_ext)):\n",
        "                try: mfccs, chroma, mel, contrast,tonnetz = extract_feature(fn)\n",
        "                except Exception as e:\n",
        "                    print(\"[Error] extract feature error in %s. %s\" % (fn,e))\n",
        "                    continue\n",
        "                ext_features = np.hstack([mfccs,chroma,mel,contrast,tonnetz])\n",
        "                features = np.vstack([features,ext_features])\n",
        "                # labels = np.append(labels, fn.split('/')[1])\n",
        "                labels = np.append(labels, label)\n",
        "            print(\"extract %s features done\" % (sub_dir))\n",
        "    return np.array(features), np.array(labels, dtype = np.int)"
      ],
      "metadata": {
        "id": "YCK9Al9yb6ZT"
      },
      "execution_count": null,
      "outputs": []
    },
    {
      "cell_type": "code",
      "source": [
        "def parse_predict_files(parent_dir,file_ext='*.wav'):\n",
        "    features = np.empty((0,193))\n",
        "    filenames = []\n",
        "    for fn in glob.glob(os.path.join(parent_dir, file_ext)):\n",
        "        mfccs, chroma, mel, contrast,tonnetz = extract_feature(fn)\n",
        "        ext_features = np.hstack([mfccs,chroma,mel,contrast,tonnetz])\n",
        "        features = np.vstack([features,ext_features])\n",
        "        filenames.append(fn)\n",
        "        print(\"extract %s features done\" % fn)\n",
        "    return np.array(features), np.array(filenames)\n"
      ],
      "metadata": {
        "id": "lPfL6cGkci0A"
      },
      "execution_count": null,
      "outputs": []
    },
    {
      "cell_type": "code",
      "execution_count": null,
      "metadata": {
        "id": "vTHMDdfVDUp4"
      },
      "outputs": [],
      "source": [
        "# def features_extractor(file):\n",
        "#     audio, sample_rate = librosa.load(file_name, res_type='kaiser_fast') \n",
        "#     mfccs_features = librosa.feature.mfcc(y=audio, sr=sample_rate, n_mfcc=40)\n",
        "#     mfccs_scaled_features = np.mean(mfccs_features.T,axis=0)\n",
        "    \n",
        "#     return mfccs_scaled_features"
      ]
    },
    {
      "cell_type": "code",
      "execution_count": null,
      "metadata": {
        "id": "MVBehCS_CZLm"
      },
      "outputs": [],
      "source": [
        "# import numpy as np\n",
        "# from tqdm import tqdm\n",
        "# ### Now we iterate through every audio file and extract features \n",
        "# ### using Mel-Frequency Cepstral Coefficients\n",
        "# extracted_features=[]\n",
        "# for index_num,row in tqdm(metadata.iterrows()):\n",
        "#     file_name = os.path.join((row[\"audio\"]))\n",
        "#     final_class_labels=row[\"leakage\"]\n",
        "#     data=features_extractor(file_name)\n",
        "#     extracted_features.append([data,final_class_labels])"
      ]
    },
    {
      "cell_type": "code",
      "execution_count": null,
      "metadata": {
        "id": "uO-kO-h8H0jv"
      },
      "outputs": [],
      "source": [
        "# extracted_features_df=pd.DataFrame(extracted_features,columns=['feature','class'])\n",
        "# extracted_features_df.head()"
      ]
    },
    {
      "cell_type": "code",
      "execution_count": null,
      "metadata": {
        "id": "QG-rTkRD4kIK"
      },
      "outputs": [],
      "source": [
        "# from sklearn.preprocessing import MinMaxScaler\n",
        "# scaler = MinMaxScaler()"
      ]
    },
    {
      "cell_type": "code",
      "execution_count": null,
      "metadata": {
        "id": "qOfSIODaJS1v"
      },
      "outputs": [],
      "source": [
        "# X=np.array(extracted_features_df['feature'].tolist())\n",
        "# y=np.array(extracted_features_df['class'].tolist())"
      ]
    },
    {
      "cell_type": "code",
      "execution_count": null,
      "metadata": {
        "id": "tExc4vPWJ2ET"
      },
      "outputs": [],
      "source": [
        "# X.shape"
      ]
    },
    {
      "cell_type": "code",
      "execution_count": null,
      "metadata": {
        "id": "XmHM2WXfJ3rq"
      },
      "outputs": [],
      "source": [
        "# y"
      ]
    },
    {
      "cell_type": "code",
      "source": [
        "features, labels = parse_audio_files('/content/drive/MyDrive/Water dataset')\n",
        "np.save('feat.npy', features)\n",
        "np.save('label.npy', labels)\n",
        "import numpy as np\n",
        "import sklearn\n",
        "from sklearn.svm import SVC\n",
        "from sklearn.model_selection import train_test_split\n",
        "from sklearn.model_selection import GridSearchCV\n",
        "from sklearn.metrics import classification_report\n",
        "\n",
        "# Load data from numpy file\n",
        "X =  np.load('/content/feat.npy')\n",
        "y =  np.load('/content/label.npy').ravel()"
      ],
      "metadata": {
        "colab": {
          "base_uri": "https://localhost:8080/"
        },
        "id": "HbTJx-QJe0re",
        "outputId": "9bfb89ea-7766-40db-83ad-6fd0dfed3d2c"
      },
      "execution_count": null,
      "outputs": [
        {
          "output_type": "stream",
          "name": "stdout",
          "text": [
            "Extracting /content/drive/MyDrive/Water dataset/Leak/008_12854-20180811.wav\n",
            "Extracting /content/drive/MyDrive/Water dataset/Leak/004_07573-20180817.wav\n",
            "Extracting /content/drive/MyDrive/Water dataset/Leak/006_07573-20180831.wav\n",
            "Extracting /content/drive/MyDrive/Water dataset/Leak/007_07573-20180905.wav\n",
            "Extracting /content/drive/MyDrive/Water dataset/Leak/005_07573-20180826.wav\n",
            "Extracting /content/drive/MyDrive/Water dataset/Leak/009_05494-20180810.wav\n",
            "Extracting /content/drive/MyDrive/Water dataset/Leak/003_05593-20180927.wav\n",
            "Extracting /content/drive/MyDrive/Water dataset/Leak/012_16174-20171130.wav\n",
            "Extracting /content/drive/MyDrive/Water dataset/Leak/011_05576-20171123.wav\n",
            "Extracting /content/drive/MyDrive/Water dataset/Leak/015_05557-20190321.wav\n",
            "Extracting /content/drive/MyDrive/Water dataset/Leak/016_12835-20180523.wav\n",
            "Extracting /content/drive/MyDrive/Water dataset/Leak/018_05569-20181002.wav\n",
            "Extracting /content/drive/MyDrive/Water dataset/Leak/019_05500-20180809.wav\n",
            "Extracting /content/drive/MyDrive/Water dataset/Leak/017_16178-20180423.wav\n",
            "Extracting /content/drive/MyDrive/Water dataset/Leak/020_16178-20180808.wav\n",
            "Extracting /content/drive/MyDrive/Water dataset/Leak/021_16196-20180813.wav\n",
            "Extracting /content/drive/MyDrive/Water dataset/Leak/013_12831-20170425.wav\n",
            "Extracting /content/drive/MyDrive/Water dataset/Leak/022_00263-20180605.wav\n",
            "Extracting /content/drive/MyDrive/Water dataset/Leak/024_05633-20190213.wav\n",
            "Extracting /content/drive/MyDrive/Water dataset/Leak/027_07646-20190213.wav\n",
            "Extracting /content/drive/MyDrive/Water dataset/Leak/032_21142-20190620.wav\n",
            "Extracting /content/drive/MyDrive/Water dataset/Leak/1.1.01.0330.wav\n",
            "Extracting /content/drive/MyDrive/Water dataset/Leak/1.1.02.0345.wav\n",
            "Extracting /content/drive/MyDrive/Water dataset/Leak/023_07578-20190218.wav\n",
            "Extracting /content/drive/MyDrive/Water dataset/Leak/1.1.03.0400.wav\n",
            "Extracting /content/drive/MyDrive/Water dataset/Leak/1.1.04.0415.wav\n",
            "Extracting /content/drive/MyDrive/Water dataset/Leak/1.2.01.0330.wav\n",
            "Extracting /content/drive/MyDrive/Water dataset/Leak/1.2.02.0345.wav\n",
            "Extracting /content/drive/MyDrive/Water dataset/Leak/1.2.03.0400.wav\n"
          ]
        },
        {
          "output_type": "stream",
          "name": "stderr",
          "text": [
            "/usr/local/lib/python3.7/dist-packages/librosa/core/pitch.py:153: UserWarning: Trying to estimate tuning from empty frequency set.\n",
            "  warnings.warn(\"Trying to estimate tuning from empty frequency set.\")\n"
          ]
        },
        {
          "output_type": "stream",
          "name": "stdout",
          "text": [
            "Extracting /content/drive/MyDrive/Water dataset/Leak/1.2.04.0415.wav\n",
            "Extracting /content/drive/MyDrive/Water dataset/Leak/1.3.01.0330.wav\n",
            "Extracting /content/drive/MyDrive/Water dataset/Leak/1.3.03.0400.wav\n",
            "Extracting /content/drive/MyDrive/Water dataset/Leak/1.3.02.0345.wav\n",
            "Extracting /content/drive/MyDrive/Water dataset/Leak/1.3.04.0415.wav\n",
            "Extracting /content/drive/MyDrive/Water dataset/Leak/1.4.02.0345.wav\n",
            "Extracting /content/drive/MyDrive/Water dataset/Leak/1.4.01.0330.wav\n",
            "Extracting /content/drive/MyDrive/Water dataset/Leak/1.4.03.0400.wav\n",
            "Extracting /content/drive/MyDrive/Water dataset/Leak/1.4.04.0415.wav\n",
            "Extracting /content/drive/MyDrive/Water dataset/Leak/1.5.02.0345.wav\n",
            "Extracting /content/drive/MyDrive/Water dataset/Leak/1.5.03.0400.wav\n",
            "Extracting /content/drive/MyDrive/Water dataset/Leak/1.5.01.0330.wav\n",
            "Extracting /content/drive/MyDrive/Water dataset/Leak/1.5.04.0415.wav\n",
            "Extracting /content/drive/MyDrive/Water dataset/Leak/1.6.01.0330.wav\n",
            "Extracting /content/drive/MyDrive/Water dataset/Leak/1.6.02.0345.wav\n",
            "Extracting /content/drive/MyDrive/Water dataset/Leak/1.6.03.0400.wav\n",
            "Extracting /content/drive/MyDrive/Water dataset/Leak/1.6.04.0415.wav\n",
            "Extracting /content/drive/MyDrive/Water dataset/Leak/1.7.01.0330.wav\n",
            "Extracting /content/drive/MyDrive/Water dataset/Leak/1.7.02.0345.wav\n",
            "Extracting /content/drive/MyDrive/Water dataset/Leak/1.7.04.0415.wav\n",
            "Extracting /content/drive/MyDrive/Water dataset/Leak/172496_20201121_0330.wav\n",
            "Extracting /content/drive/MyDrive/Water dataset/Leak/172499_20201015_0330.wav\n",
            "Extracting /content/drive/MyDrive/Water dataset/Leak/172499_20201015_0345.wav\n",
            "Extracting /content/drive/MyDrive/Water dataset/Leak/172500_20201121_0330.wav\n",
            "Extracting /content/drive/MyDrive/Water dataset/Leak/172500_20201121_0345.wav\n",
            "Extracting /content/drive/MyDrive/Water dataset/Leak/172502_20201015_0330.wav\n",
            "Extracting /content/drive/MyDrive/Water dataset/Leak/1.7.03.0400.wav\n",
            "Extracting /content/drive/MyDrive/Water dataset/Leak/172502_20201015_0345.wav\n",
            "Extracting /content/drive/MyDrive/Water dataset/Leak/172496_20201121_0345.wav\n",
            "Extracting /content/drive/MyDrive/Water dataset/Leak/3.1.02.0345.wav\n",
            "Extracting /content/drive/MyDrive/Water dataset/Leak/3.1.03.0400.wav\n",
            "Extracting /content/drive/MyDrive/Water dataset/Leak/3.2.01.0330.wav\n",
            "Extracting /content/drive/MyDrive/Water dataset/Leak/3.2.03.0400.wav\n",
            "Extracting /content/drive/MyDrive/Water dataset/Leak/3.2.04.0415.wav\n",
            "Extracting /content/drive/MyDrive/Water dataset/Leak/3.3.01.0330.wav\n",
            "Extracting /content/drive/MyDrive/Water dataset/Leak/3.3.02.0345.wav\n",
            "Extracting /content/drive/MyDrive/Water dataset/Leak/3.1.01.0330.wav\n",
            "Extracting /content/drive/MyDrive/Water dataset/Leak/3.3.03.0400.wav\n",
            "Extracting /content/drive/MyDrive/Water dataset/Leak/3.1.04.0415.wav\n",
            "Extracting /content/drive/MyDrive/Water dataset/Leak/3.3.04.0415.wav\n",
            "Extracting /content/drive/MyDrive/Water dataset/Leak/3.2.02.0345.wav\n",
            "extract Leak features done\n",
            "Extracting /content/drive/MyDrive/Water dataset/Non-Leak/2.7.05.2200.wav\n",
            "Extracting /content/drive/MyDrive/Water dataset/Non-Leak/2.1.01.0330.wav\n",
            "Extracting /content/drive/MyDrive/Water dataset/Non-Leak/2.2.05.0430.wav\n",
            "Extracting /content/drive/MyDrive/Water dataset/Non-Leak/2.8.04.2100.wav\n",
            "Extracting /content/drive/MyDrive/Water dataset/Non-Leak/2.2.04.0415.wav\n",
            "Extracting /content/drive/MyDrive/Water dataset/Non-Leak/2.6.02.0730.wav\n",
            "Extracting /content/drive/MyDrive/Water dataset/Non-Leak/2.7.04.2100.wav\n",
            "Extracting /content/drive/MyDrive/Water dataset/Non-Leak/2.1.03.0400.wav\n",
            "Extracting /content/drive/MyDrive/Water dataset/Non-Leak/2.2.01.0330.wav\n",
            "Extracting /content/drive/MyDrive/Water dataset/Non-Leak/2.4.05.0430.wav\n",
            "Extracting /content/drive/MyDrive/Water dataset/Non-Leak/2.3.02.0345.wav\n",
            "Extracting /content/drive/MyDrive/Water dataset/Non-Leak/2.1.02.0345.wav\n",
            "Extracting /content/drive/MyDrive/Water dataset/Non-Leak/2.8.01.1800.wav\n",
            "Extracting /content/drive/MyDrive/Water dataset/Non-Leak/2.3.04.0415.wav\n",
            "Extracting /content/drive/MyDrive/Water dataset/Non-Leak/2.8.03.2000.wav\n",
            "Extracting /content/drive/MyDrive/Water dataset/Non-Leak/2.6.04.0930.wav\n",
            "Extracting /content/drive/MyDrive/Water dataset/Non-Leak/2.6.03.0830.wav\n",
            "Extracting /content/drive/MyDrive/Water dataset/Non-Leak/2.7.03.2000.wav\n",
            "Extracting /content/drive/MyDrive/Water dataset/Non-Leak/2.2.03.0400.wav\n",
            "Extracting /content/drive/MyDrive/Water dataset/Non-Leak/2.5.03.0830.wav\n",
            "Extracting /content/drive/MyDrive/Water dataset/Non-Leak/2.8.02.1900.wav\n",
            "Extracting /content/drive/MyDrive/Water dataset/Non-Leak/2.3.01.0330.wav\n",
            "Extracting /content/drive/MyDrive/Water dataset/Non-Leak/2.3.03.0400.wav\n",
            "Extracting /content/drive/MyDrive/Water dataset/Non-Leak/2.3.05.0430.wav\n",
            "Extracting /content/drive/MyDrive/Water dataset/Non-Leak/2.5.05.1030.wav\n",
            "Extracting /content/drive/MyDrive/Water dataset/Non-Leak/2.7.02.1900.wav\n",
            "Extracting /content/drive/MyDrive/Water dataset/Non-Leak/2.1.05.0430.wav\n",
            "Extracting /content/drive/MyDrive/Water dataset/Non-Leak/2.1.04.0415.wav\n",
            "Extracting /content/drive/MyDrive/Water dataset/Non-Leak/2.4.03.0400.wav\n",
            "Extracting /content/drive/MyDrive/Water dataset/Non-Leak/2.5.02.0730.wav\n",
            "Extracting /content/drive/MyDrive/Water dataset/Non-Leak/2.6.05.1030.wav\n",
            "Extracting /content/drive/MyDrive/Water dataset/Non-Leak/2.2.02.0345.wav\n",
            "Extracting /content/drive/MyDrive/Water dataset/Non-Leak/2.4.01.0330.wav\n",
            "Extracting /content/drive/MyDrive/Water dataset/Non-Leak/2.5.01.0630.wav\n",
            "Extracting /content/drive/MyDrive/Water dataset/Non-Leak/2.4.04.0415.wav\n",
            "Extracting /content/drive/MyDrive/Water dataset/Non-Leak/2.8.05.2200.wav\n",
            "Extracting /content/drive/MyDrive/Water dataset/Non-Leak/2.6.01.0630.wav\n",
            "Extracting /content/drive/MyDrive/Water dataset/Non-Leak/2.4.02.0345.wav\n",
            "Extracting /content/drive/MyDrive/Water dataset/Non-Leak/2.7.01.1800.wav\n",
            "Extracting /content/drive/MyDrive/Water dataset/Non-Leak/2.5.04.0930.wav\n",
            "Extracting /content/drive/MyDrive/Water dataset/Non-Leak/05553_20190417_1145.wav\n",
            "Extracting /content/drive/MyDrive/Water dataset/Non-Leak/00540_20210422_0415.wav\n",
            "Extracting /content/drive/MyDrive/Water dataset/Non-Leak/05540_20200810_1145.wav\n",
            "Extracting /content/drive/MyDrive/Water dataset/Non-Leak/00241_20180818_1445.wav\n",
            "Extracting /content/drive/MyDrive/Water dataset/Non-Leak/05540_20200725_1145.wav\n",
            "Extracting /content/drive/MyDrive/Water dataset/Non-Leak/00241_20190306_1445.wav\n",
            "Extracting /content/drive/MyDrive/Water dataset/Non-Leak/07550_20170610_1145.wav\n",
            "Extracting /content/drive/MyDrive/Water dataset/Non-Leak/05553_20190213_1145.wav\n",
            "Extracting /content/drive/MyDrive/Water dataset/Non-Leak/05574_20170725_1145.wav\n",
            "Extracting /content/drive/MyDrive/Water dataset/Non-Leak/07550_20170609_1145.wav\n",
            "Extracting /content/drive/MyDrive/Water dataset/Non-Leak/05574_20201020_1145.wav\n",
            "Extracting /content/drive/MyDrive/Water dataset/Non-Leak/05574_20180427_1145.wav\n",
            "Extracting /content/drive/MyDrive/Water dataset/Non-Leak/05574_20181002_1145.wav\n",
            "Extracting /content/drive/MyDrive/Water dataset/Non-Leak/05574_20190408_1248.wav\n",
            "Extracting /content/drive/MyDrive/Water dataset/Non-Leak/05574_20181004_1145.wav\n",
            "Extracting /content/drive/MyDrive/Water dataset/Non-Leak/05574_20170713_1145.wav\n",
            "Extracting /content/drive/MyDrive/Water dataset/Non-Leak/07645_20170513_1145.wav\n",
            "Extracting /content/drive/MyDrive/Water dataset/Non-Leak/07645_20170429_1145.wav\n",
            "Extracting /content/drive/MyDrive/Water dataset/Non-Leak/05574_20171028_1145.wav\n",
            "Extracting /content/drive/MyDrive/Water dataset/Non-Leak/05574_20180814_1145.wav\n",
            "Extracting /content/drive/MyDrive/Water dataset/Non-Leak/07642_20190122_1145.wav\n",
            "Extracting /content/drive/MyDrive/Water dataset/Non-Leak/12846-20200902-1145.wav\n",
            "Extracting /content/drive/MyDrive/Water dataset/Non-Leak/00540_20210422_0400.wav\n",
            "Extracting /content/drive/MyDrive/Water dataset/Non-Leak/05574_20170703_1145.wav\n",
            "Extracting /content/drive/MyDrive/Water dataset/Non-Leak/05574_20200326_1538.wav\n",
            "Extracting /content/drive/MyDrive/Water dataset/Non-Leak/05574_20180710_1145.wav\n",
            "Extracting /content/drive/MyDrive/Water dataset/Non-Leak/07642_20190114_1145.wav\n",
            "Extracting /content/drive/MyDrive/Water dataset/Non-Leak/05574_20181103_1145.wav\n",
            "Extracting /content/drive/MyDrive/Water dataset/Non-Leak/12865_20200902_1145.wav\n",
            "Extracting /content/drive/MyDrive/Water dataset/Non-Leak/05574_20180613_1145.wav\n",
            "extract Non-Leak features done\n"
          ]
        },
        {
          "output_type": "stream",
          "name": "stderr",
          "text": [
            "/usr/local/lib/python3.7/dist-packages/ipykernel_launcher.py:17: DeprecationWarning: `np.int` is a deprecated alias for the builtin `int`. To silence this warning, use `int` by itself. Doing this will not modify any behavior and is safe. When replacing `np.int`, you may wish to use e.g. `np.int64` or `np.int32` to specify the precision. If you wish to review your current use, check the release note link for additional information.\n",
            "Deprecated in NumPy 1.20; for more details and guidance: https://numpy.org/devdocs/release/1.20.0-notes.html#deprecations\n"
          ]
        }
      ]
    },
    {
      "cell_type": "code",
      "execution_count": null,
      "metadata": {
        "id": "Ol0jmcOfJ6SK"
      },
      "outputs": [],
      "source": [
        "from sklearn.model_selection import train_test_split\n",
        "X_train,X_test,y_train,y_test=train_test_split(X,y,test_size=0.2,random_state=0)"
      ]
    },
    {
      "cell_type": "code",
      "execution_count": null,
      "metadata": {
        "colab": {
          "base_uri": "https://localhost:8080/"
        },
        "id": "aEXaO0tIKES3",
        "outputId": "e43405fa-b372-49b5-f45d-2d05f1b594cd"
      },
      "outputs": [
        {
          "output_type": "execute_result",
          "data": {
            "text/plain": [
              "array([[-1.63062637e+02, -1.37473612e+01, -1.90651588e+01, ...,\n",
              "        -1.19653610e-01,  3.15114059e-02, -2.63409022e-02],\n",
              "       [-1.75609146e+02,  7.99382019e+01, -9.05922413e+00, ...,\n",
              "         9.42133173e-02, -2.33401880e-03,  6.51397316e-02],\n",
              "       [-1.49077805e+02,  6.37061806e+01,  3.81316261e+01, ...,\n",
              "         2.89341450e-02,  4.45508227e-02, -2.34060364e-02],\n",
              "       ...,\n",
              "       [-2.77681793e+02,  5.54526405e+01, -7.13506508e+00, ...,\n",
              "         2.58367648e-02,  6.52647148e-02, -5.69300585e-02],\n",
              "       [-2.48290573e+02,  7.09315643e+01,  2.06789150e+01, ...,\n",
              "        -3.89011400e-02,  4.84887396e-02, -4.31139098e-02],\n",
              "       [-5.21533813e+01, -4.68016129e+01, -3.76899261e+01, ...,\n",
              "         2.43867885e-03,  5.24091058e-03,  1.17640815e-02]])"
            ]
          },
          "metadata": {},
          "execution_count": 28
        }
      ],
      "source": [
        "X_train"
      ]
    },
    {
      "cell_type": "code",
      "execution_count": null,
      "metadata": {
        "colab": {
          "base_uri": "https://localhost:8080/"
        },
        "id": "B0eUlSfcKGY4",
        "outputId": "da975e28-c210-4d6e-96d0-75c9e54a93f9"
      },
      "outputs": [
        {
          "output_type": "execute_result",
          "data": {
            "text/plain": [
              "array([0, 0, 0, 0, 0, 0, 0, 0, 0, 0, 0, 0, 0, 0, 0, 0, 0, 0, 0, 0, 0, 0,\n",
              "       0, 0, 0, 0, 0, 0, 0, 0, 0, 0, 0, 0, 0, 0, 0, 0, 0, 0, 0, 0, 0, 0,\n",
              "       0, 0, 0, 0, 0, 0, 0, 0, 0, 0, 0, 0, 0, 0, 0, 0, 0, 0, 0, 0, 0, 0,\n",
              "       0, 0, 0, 0, 1, 1, 1, 1, 1, 1, 1, 1, 1, 1, 1, 1, 1, 1, 1, 1, 1, 1,\n",
              "       1, 1, 1, 1, 1, 1, 1, 1, 1, 1, 1, 1, 1, 1, 1, 1, 1, 1, 1, 1, 1, 1,\n",
              "       1, 1, 1, 1, 1, 1, 1, 1, 1, 1, 1, 1, 1, 1, 1, 1, 1, 1, 1, 1, 1, 1,\n",
              "       1, 1, 1, 1, 1, 1, 1, 1])"
            ]
          },
          "metadata": {},
          "execution_count": 29
        }
      ],
      "source": [
        "y"
      ]
    },
    {
      "cell_type": "code",
      "execution_count": null,
      "metadata": {
        "id": "FJh6LxMdKJA7",
        "colab": {
          "base_uri": "https://localhost:8080/"
        },
        "outputId": "7c63f426-e016-4369-8129-2b1ecc1c1902"
      },
      "outputs": [
        {
          "output_type": "execute_result",
          "data": {
            "text/plain": [
              "(112, 193)"
            ]
          },
          "metadata": {},
          "execution_count": 30
        }
      ],
      "source": [
        "X_train.shape\n"
      ]
    },
    {
      "cell_type": "code",
      "execution_count": null,
      "metadata": {
        "id": "Kib8MPiLKOKM",
        "colab": {
          "base_uri": "https://localhost:8080/"
        },
        "outputId": "9fe08c71-d086-4fb0-954c-96589a0086f3"
      },
      "outputs": [
        {
          "output_type": "execute_result",
          "data": {
            "text/plain": [
              "(28, 193)"
            ]
          },
          "metadata": {},
          "execution_count": 31
        }
      ],
      "source": [
        "X_test.shape"
      ]
    },
    {
      "cell_type": "code",
      "execution_count": null,
      "metadata": {
        "id": "PPMUmBzoKPx-",
        "colab": {
          "base_uri": "https://localhost:8080/"
        },
        "outputId": "a6a3c057-150a-4504-aafc-459e14a4d169"
      },
      "outputs": [
        {
          "output_type": "execute_result",
          "data": {
            "text/plain": [
              "(112,)"
            ]
          },
          "metadata": {},
          "execution_count": 32
        }
      ],
      "source": [
        "y_train.shape"
      ]
    },
    {
      "cell_type": "code",
      "execution_count": null,
      "metadata": {
        "id": "Y8zjtL9JKRdg",
        "colab": {
          "base_uri": "https://localhost:8080/"
        },
        "outputId": "848e64af-cfe4-4633-b01c-74b8b41a9235"
      },
      "outputs": [
        {
          "output_type": "execute_result",
          "data": {
            "text/plain": [
              "(28,)"
            ]
          },
          "metadata": {},
          "execution_count": 33
        }
      ],
      "source": [
        "y_test.shape"
      ]
    },
    {
      "cell_type": "code",
      "execution_count": null,
      "metadata": {
        "id": "siKA24KOKTOp",
        "colab": {
          "base_uri": "https://localhost:8080/"
        },
        "outputId": "6e39638c-ced7-48af-c8bf-848551850c53"
      },
      "outputs": [
        {
          "output_type": "stream",
          "name": "stdout",
          "text": [
            "2.8.0\n"
          ]
        }
      ],
      "source": [
        "import tensorflow as tf\n",
        "print(tf.__version__)"
      ]
    },
    {
      "cell_type": "code",
      "execution_count": null,
      "metadata": {
        "id": "oCFDF-irKWK3"
      },
      "outputs": [],
      "source": [
        "from tensorflow.keras.models import Sequential\n",
        "from tensorflow.keras.layers import Dense,Dropout,Activation,Flatten,Input,Convolution1D,MaxPool1D,GlobalMaxPool1D,BatchNormalization\n",
        "from tensorflow.keras.optimizers import Adam\n",
        "from sklearn import metrics\n",
        "input_length=193\n",
        "from keras import models,optimizers,losses\n",
        "import tensorflow as tf"
      ]
    },
    {
      "cell_type": "code",
      "execution_count": null,
      "metadata": {
        "id": "xM2CtaH_KY-F"
      },
      "outputs": [],
      "source": [
        "### No of classes\n",
        "# num_labels=1"
      ]
    },
    {
      "cell_type": "code",
      "execution_count": null,
      "metadata": {
        "id": "p2TRDq8DKa45"
      },
      "outputs": [],
      "source": [
        "from keras.backend import batch_normalization\n",
        "nclass=1\n",
        "inp = Input(shape=(input_length,1))\n",
        "x = Convolution1D(16, 3, activation='relu', padding=\"valid\")(inp)\n",
        "x = Convolution1D(16, 3, activation='relu', padding=\"valid\")(x)\n",
        "\n",
        "    \n",
        "x = Convolution1D(32, 3, activation='relu', padding=\"valid\")(x)\n",
        "x = Convolution1D(32, 3, activation='relu', padding=\"valid\")(x)\n",
        "x = BatchNormalization()(x)\n",
        "\n",
        "    \n",
        "x = Convolution1D(64, 3, activation='relu', padding=\"valid\")(x)\n",
        "x = Convolution1D(64, 3, activation='relu', padding=\"valid\")(x)\n",
        "x = BatchNormalization()(x)\n",
        "    \n",
        "x = Convolution1D(256, 3, activation='relu', padding=\"valid\")(x)\n",
        "x = GlobalMaxPool1D()(x)\n",
        "\n",
        "x = Flatten()(x)\n",
        "x = Dense(64, activation='relu')(x)\n",
        "x = Dropout(0.4)(x)\n",
        "x = Dense(128, activation='relu')(x)\n",
        "x = Dropout(0.4)(x)\n",
        "out = Dense(nclass, activation='sigmoid')(x)\n",
        "\n",
        "model = models.Model(inputs=inp, outputs=out)\n",
        "opt = tf.keras.optimizers.Adam(learning_rate=0.001)\n",
        "\n",
        "model.compile(optimizer=opt, loss=losses.binary_crossentropy, metrics=['acc'])"
      ]
    },
    {
      "cell_type": "code",
      "execution_count": null,
      "metadata": {
        "id": "VmSAVSZJKggr"
      },
      "outputs": [],
      "source": [
        "# model.summary()"
      ]
    },
    {
      "cell_type": "code",
      "execution_count": null,
      "metadata": {
        "id": "ZPYoodN5Knmx",
        "colab": {
          "base_uri": "https://localhost:8080/"
        },
        "outputId": "14c4b651-70d1-49b9-b1db-6723973314a2"
      },
      "outputs": [
        {
          "output_type": "stream",
          "name": "stdout",
          "text": [
            "Epoch 1/15\n",
            "8/8 [==============================] - 3s 98ms/step - loss: 0.9738 - acc: 0.5625 - val_loss: 0.6920 - val_acc: 0.4643\n",
            "Epoch 2/15\n",
            "8/8 [==============================] - 0s 49ms/step - loss: 0.7335 - acc: 0.6250 - val_loss: 0.6909 - val_acc: 0.5000\n",
            "Epoch 3/15\n",
            "8/8 [==============================] - 0s 54ms/step - loss: 0.6346 - acc: 0.7054 - val_loss: 0.6881 - val_acc: 0.5357\n",
            "Epoch 4/15\n",
            "8/8 [==============================] - 0s 51ms/step - loss: 0.5911 - acc: 0.6964 - val_loss: 0.6836 - val_acc: 0.7857\n",
            "Epoch 5/15\n",
            "8/8 [==============================] - 0s 55ms/step - loss: 0.5814 - acc: 0.6786 - val_loss: 0.6734 - val_acc: 0.7857\n",
            "Epoch 6/15\n",
            "8/8 [==============================] - 0s 50ms/step - loss: 0.4640 - acc: 0.7589 - val_loss: 0.6784 - val_acc: 0.6786\n",
            "Epoch 7/15\n",
            "8/8 [==============================] - 0s 45ms/step - loss: 0.3430 - acc: 0.8125 - val_loss: 0.6678 - val_acc: 0.6429\n",
            "Epoch 8/15\n",
            "8/8 [==============================] - 0s 49ms/step - loss: 0.3246 - acc: 0.7946 - val_loss: 0.6518 - val_acc: 0.6071\n",
            "Epoch 9/15\n",
            "8/8 [==============================] - 0s 49ms/step - loss: 0.2717 - acc: 0.8839 - val_loss: 0.6408 - val_acc: 0.6071\n",
            "Epoch 10/15\n",
            "8/8 [==============================] - 0s 49ms/step - loss: 0.3026 - acc: 0.9018 - val_loss: 0.6406 - val_acc: 0.6786\n",
            "Epoch 11/15\n",
            "8/8 [==============================] - 0s 54ms/step - loss: 0.2607 - acc: 0.8839 - val_loss: 0.6389 - val_acc: 0.6429\n",
            "Epoch 12/15\n",
            "8/8 [==============================] - 0s 50ms/step - loss: 0.2947 - acc: 0.8125 - val_loss: 0.6397 - val_acc: 0.6786\n",
            "Epoch 13/15\n",
            "8/8 [==============================] - 0s 51ms/step - loss: 0.2785 - acc: 0.8929 - val_loss: 0.6419 - val_acc: 0.6071\n",
            "Epoch 14/15\n",
            "8/8 [==============================] - 0s 50ms/step - loss: 0.2402 - acc: 0.9107 - val_loss: 0.6316 - val_acc: 0.6429\n",
            "Epoch 15/15\n",
            "8/8 [==============================] - 0s 51ms/step - loss: 0.2108 - acc: 0.9375 - val_loss: 0.6024 - val_acc: 0.6071\n"
          ]
        },
        {
          "output_type": "execute_result",
          "data": {
            "text/plain": [
              "<keras.callbacks.History at 0x7f0f4dc44450>"
            ]
          },
          "metadata": {},
          "execution_count": 39
        }
      ],
      "source": [
        "model.fit(X_train,y_train,batch_size=15,epochs=15,validation_data=(X_test, y_test),verbose=1)"
      ]
    },
    {
      "cell_type": "code",
      "execution_count": null,
      "metadata": {
        "id": "_qG2fpPSKqwl"
      },
      "outputs": [],
      "source": [
        "# ## Trianing my model\n",
        "# from tensorflow.keras.callbacks import ModelCheckpoint\n",
        "# from datetime import datetime \n",
        "\n",
        "# num_epochs = 10\n",
        "# num_batch_size = 32\n",
        "\n",
        "# checkpointer = ModelCheckpoint(filepath='saved_models/audio_classification.hdf5', \n",
        "#                                verbose=1, save_best_only=True)\n",
        "# start = datetime.now()\n",
        "\n",
        "# model.fit(X_train, y_train, batch_size=num_batch_size, epochs=num_epochs, validation_data=(X_test, y_test), callbacks=[checkpointer], verbose=1)\n",
        "\n",
        "\n",
        "# duration = datetime.now() - start\n",
        "# print(\"Training completed in time: \", duration)"
      ]
    },
    {
      "cell_type": "code",
      "execution_count": null,
      "metadata": {
        "colab": {
          "base_uri": "https://localhost:8080/"
        },
        "id": "z5xwz_WcKter",
        "outputId": "1822d9f2-1a1f-49fa-9d4c-575d47b8e5fc"
      },
      "outputs": [
        {
          "output_type": "stream",
          "name": "stdout",
          "text": [
            "0.6071428656578064\n"
          ]
        }
      ],
      "source": [
        "test_accuracy=model.evaluate(X_test,y_test,verbose=0)\n",
        "print(test_accuracy[1])"
      ]
    },
    {
      "cell_type": "code",
      "execution_count": null,
      "metadata": {
        "colab": {
          "base_uri": "https://localhost:8080/"
        },
        "id": "ZqnVQXFSLATq",
        "outputId": "dcc4f06c-30c9-402e-e032-5d6bcd512975"
      },
      "outputs": [
        {
          "output_type": "execute_result",
          "data": {
            "text/plain": [
              "array([-2.79368164e+02,  5.46747932e+01, -7.37466764e+00,  9.77781963e+00,\n",
              "        5.90038013e+00,  4.72458172e+00,  2.55581260e+00,  4.32015753e+00,\n",
              "        5.56787491e+00,  5.17571211e+00,  3.77596569e+00,  3.35864067e+00,\n",
              "        4.14305162e+00,  5.02392817e+00,  3.50711703e+00,  2.90899158e+00,\n",
              "        3.59998012e+00,  4.33786678e+00,  3.72389650e+00,  2.78873920e+00,\n",
              "        3.65858388e+00,  4.49031019e+00,  3.13023973e+00,  2.87242270e+00,\n",
              "        3.35029578e+00,  3.65153909e+00,  3.39443374e+00,  2.80365324e+00,\n",
              "        2.86737514e+00,  2.66457033e+00,  2.81586528e+00,  2.55213141e+00,\n",
              "        2.53144002e+00,  2.65850830e+00,  3.51225090e+00,  2.63426971e+00,\n",
              "        2.28445411e+00,  2.95313239e+00,  2.68133426e+00,  1.79020417e+00,\n",
              "        8.48446250e-01,  8.95979583e-01,  9.08010900e-01,  8.77034962e-01,\n",
              "        8.66414368e-01,  8.86376143e-01,  9.11453247e-01,  8.98144007e-01,\n",
              "        9.00854707e-01,  9.13831413e-01,  9.34144199e-01,  8.99596393e-01,\n",
              "        2.45813203e+00,  9.84367803e-02,  2.94583030e-02,  1.53691210e-02,\n",
              "        1.25552006e-02,  1.44530451e-02,  1.44436732e-02,  1.32624339e-02,\n",
              "        1.30868135e-02,  1.22812083e-02,  1.17459893e-02,  1.16963433e-02,\n",
              "        1.25967180e-02,  1.15715750e-02,  1.23001263e-02,  1.17072416e-02,\n",
              "        1.02145737e-02,  1.11027425e-02,  1.06574306e-02,  1.04373368e-02,\n",
              "        1.14483079e-02,  1.02301482e-02,  1.13898097e-02,  1.17780622e-02,\n",
              "        1.03992829e-02,  8.79570190e-03,  9.67131276e-03,  1.04817655e-02,\n",
              "        1.02886362e-02,  9.79406107e-03,  8.73066857e-03,  9.77572426e-03,\n",
              "        8.12733825e-03,  8.48062709e-03,  8.32978543e-03,  7.87733961e-03,\n",
              "        8.41278676e-03,  8.28289799e-03,  8.13848153e-03,  7.09530013e-03,\n",
              "        7.33668078e-03,  7.34841311e-03,  6.94167102e-03,  7.03939702e-03,\n",
              "        6.49191905e-03,  6.58405665e-03,  6.06396887e-03,  6.61638705e-03,\n",
              "        6.58305874e-03,  6.36880333e-03,  5.88641083e-03,  6.54728990e-03,\n",
              "        5.84153878e-03,  5.79656241e-03,  6.76790113e-03,  6.27038674e-03,\n",
              "        6.54568151e-03,  6.25911914e-03,  6.78145979e-03,  7.71317678e-03,\n",
              "        9.03228950e-03,  9.03017074e-03,  6.56859763e-03,  5.65242535e-03,\n",
              "        5.38872043e-03,  4.73413523e-03,  4.78673261e-03,  4.36019711e-03,\n",
              "        4.22601216e-03,  4.04777424e-03,  3.97920143e-03,  4.07172879e-03,\n",
              "        3.77152767e-03,  3.92281543e-03,  4.65021050e-03,  4.44927998e-03,\n",
              "        3.34979012e-03,  2.95368116e-03,  2.77205301e-03,  2.78638885e-03,\n",
              "        2.79021496e-03,  2.39835214e-03,  2.48801312e-03,  2.54339445e-03,\n",
              "        2.32753926e-03,  1.92061462e-03,  1.90997496e-03,  2.11911066e-03,\n",
              "        1.85003818e-03,  1.80202164e-03,  1.70637411e-03,  1.55338342e-03,\n",
              "        1.52641453e-03,  1.37862808e-03,  1.35917694e-03,  1.38796505e-03,\n",
              "        1.35064847e-03,  1.25146564e-03,  1.20915135e-03,  1.18135428e-03,\n",
              "        1.12830638e-03,  1.04753987e-03,  9.62477236e-04,  9.42033599e-04,\n",
              "        9.34171781e-04,  8.69281648e-04,  8.19439942e-04,  7.42780976e-04,\n",
              "        7.87603902e-04,  7.26879225e-04,  7.19832897e-04,  6.86725660e-04,\n",
              "        6.46374887e-04,  6.62729144e-04,  6.06650370e-04,  5.79213549e-04,\n",
              "        5.41785092e-04,  5.55871520e-04,  5.66769391e-04,  5.52692101e-04,\n",
              "        5.23864466e-04,  4.99808346e-04,  5.01015864e-04,  4.87165817e-04,\n",
              "        4.58539755e-04,  4.74189845e-04,  4.70454863e-04,  4.65872523e-04,\n",
              "        7.62149585e+00,  1.20280416e+01,  1.05688446e+01,  1.17330838e+01,\n",
              "        1.33815216e+01,  1.40303105e+01,  1.66592220e+01, -5.60810136e-02,\n",
              "       -5.90734656e-02, -1.41158868e-01,  9.28240918e-02,  3.20945940e-02,\n",
              "       -1.84263152e-02])"
            ]
          },
          "metadata": {},
          "execution_count": 42
        }
      ],
      "source": [
        "X_test[1]"
      ]
    },
    {
      "cell_type": "code",
      "execution_count": null,
      "metadata": {
        "id": "8usS6LGKLJQR"
      },
      "outputs": [],
      "source": [
        ""
      ]
    }
  ],
  "metadata": {
    "colab": {
      "collapsed_sections": [],
      "name": "Copy of water management2.ipynb",
      "provenance": [],
      "include_colab_link": true
    },
    "kernelspec": {
      "display_name": "Python 3",
      "name": "python3"
    },
    "language_info": {
      "name": "python"
    }
  },
  "nbformat": 4,
  "nbformat_minor": 0
}